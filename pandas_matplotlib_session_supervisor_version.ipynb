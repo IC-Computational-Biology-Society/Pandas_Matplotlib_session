{
 "cells": [
  {
   "cell_type": "markdown",
   "metadata": {},
   "source": [
    "# Pandas and Matplotlib Session"
   ]
  },
  {
   "cell_type": "markdown",
   "metadata": {},
   "source": [
    "This session, we will cover the basics of Pandas and Matplotlib - two packages used to manipulate, analyse and visualise data. The content herein aims to act as an introduction to Pandas/Matplotlib and is by no means exhastive. Refering to the [Pandas](https://pandas.pydata.org/pandas-docs/stable/index.html) and [Matplotlib](https://matplotlib.org/index.html) documentation is an excellent way to extend your knowledge of these two modules and find answers to edge cases.\n",
    "\n",
    "___\n",
    "\n",
    "Let's start by importing the modules required for the session. "
   ]
  },
  {
   "cell_type": "code",
   "execution_count": 1,
   "metadata": {},
   "outputs": [],
   "source": [
    "import numpy as np\n",
    "import pandas as pd\n",
    "from matplotlib import pyplot as plt"
   ]
  },
  {
   "cell_type": "markdown",
   "metadata": {},
   "source": [
    "For this session, you will need the data set named ```pdb_data_no_dups.csv```, which can be downloaded from our [GitHub repository](https://github.com/IC-Computational-Biology-Society/Pandas_Matplotlib_session.git) dedicated to today's workshop. Make sure you save it in the same directory as this Jupyter notebook. \n",
    "___"
   ]
  },
  {
   "cell_type": "markdown",
   "metadata": {},
   "source": [
    "## Pandas introduction"
   ]
  },
  {
   "cell_type": "markdown",
   "metadata": {},
   "source": [
    "Pandas is a Python module, underpinned by Numpy, that enables efficient handling of tabular data structures, which are stored as DataFrame objects. These can either be created within a Python script or imported from separate files such as CSVs or Excel spreadsheets. \n",
    "\n",
    "Here, we will be working with a data set on summary protein structure determination informaiton taken from [Kaggle](https://www.kaggle.com/shahir/protein-data-set) to introduce basic Pandas commands.\n",
    "\n",
    "We will start by importing the data set into this Jupyter notebook and assigning it as a DataFrame to the variable ```df```."
   ]
  },
  {
   "cell_type": "code",
   "execution_count": 2,
   "metadata": {},
   "outputs": [],
   "source": [
    "df = pd.read_csv('pdb_data_no_dups.csv')"
   ]
  },
  {
   "cell_type": "markdown",
   "metadata": {},
   "source": [
    "The method ```.columns``` returns an array of column names from the DataFrame. Let's apply this to our ```df``` DataFrame."
   ]
  },
  {
   "cell_type": "code",
   "execution_count": null,
   "metadata": {},
   "outputs": [],
   "source": [
    "df.columns"
   ]
  },
  {
   "cell_type": "markdown",
   "metadata": {},
   "source": [
    "### Task 1\n",
    "Convert the array of columns into a list and assign it to a Python variable. \n",
    "\n"
   ]
  },
  {
   "cell_type": "code",
   "execution_count": 6,
   "metadata": {},
   "outputs": [
    {
     "data": {
      "text/plain": [
       "['structureId',\n",
       " 'classification',\n",
       " 'experimentalTechnique',\n",
       " 'macromoleculeType',\n",
       " 'residueCount',\n",
       " 'resolution',\n",
       " 'structureMolecularWeight',\n",
       " 'crystallizationMethod',\n",
       " 'crystallizationTempK',\n",
       " 'densityMatthews',\n",
       " 'densityPercentSol',\n",
       " 'pdbxDetails',\n",
       " 'phValue',\n",
       " 'publicationYear']"
      ]
     },
     "execution_count": 6,
     "metadata": {},
     "output_type": "execute_result"
    }
   ],
   "source": [
    "### Task 1 ###\n",
    "column_list = list(df.columns)\n",
    "\n",
    "column_list"
   ]
  },
  {
   "cell_type": "markdown",
   "metadata": {},
   "source": [
    "___\n",
    "The top five rows of of the Pandas DataFrame can be returned by using the method ```.head()```. Run ```.head()``` on your ```df``` to get a brief insight to the data."
   ]
  },
  {
   "cell_type": "code",
   "execution_count": 4,
   "metadata": {},
   "outputs": [
    {
     "data": {
      "text/html": [
       "<div>\n",
       "<style scoped>\n",
       "    .dataframe tbody tr th:only-of-type {\n",
       "        vertical-align: middle;\n",
       "    }\n",
       "\n",
       "    .dataframe tbody tr th {\n",
       "        vertical-align: top;\n",
       "    }\n",
       "\n",
       "    .dataframe thead th {\n",
       "        text-align: right;\n",
       "    }\n",
       "</style>\n",
       "<table border=\"1\" class=\"dataframe\">\n",
       "  <thead>\n",
       "    <tr style=\"text-align: right;\">\n",
       "      <th></th>\n",
       "      <th>structureId</th>\n",
       "      <th>classification</th>\n",
       "      <th>experimentalTechnique</th>\n",
       "      <th>macromoleculeType</th>\n",
       "      <th>residueCount</th>\n",
       "      <th>resolution</th>\n",
       "      <th>structureMolecularWeight</th>\n",
       "      <th>crystallizationMethod</th>\n",
       "      <th>crystallizationTempK</th>\n",
       "      <th>densityMatthews</th>\n",
       "      <th>densityPercentSol</th>\n",
       "      <th>pdbxDetails</th>\n",
       "      <th>phValue</th>\n",
       "      <th>publicationYear</th>\n",
       "    </tr>\n",
       "  </thead>\n",
       "  <tbody>\n",
       "    <tr>\n",
       "      <th>0</th>\n",
       "      <td>100D</td>\n",
       "      <td>DNA-RNA HYBRID</td>\n",
       "      <td>X-RAY DIFFRACTION</td>\n",
       "      <td>DNA/RNA Hybrid</td>\n",
       "      <td>20</td>\n",
       "      <td>1.90</td>\n",
       "      <td>6360.30</td>\n",
       "      <td>VAPOR DIFFUSION, HANGING DROP</td>\n",
       "      <td>NaN</td>\n",
       "      <td>1.78</td>\n",
       "      <td>30.89</td>\n",
       "      <td>pH 7.00, VAPOR DIFFUSION, HANGING DROP</td>\n",
       "      <td>7.0</td>\n",
       "      <td>1994.0</td>\n",
       "    </tr>\n",
       "    <tr>\n",
       "      <th>1</th>\n",
       "      <td>101D</td>\n",
       "      <td>DNA</td>\n",
       "      <td>X-RAY DIFFRACTION</td>\n",
       "      <td>DNA</td>\n",
       "      <td>24</td>\n",
       "      <td>2.25</td>\n",
       "      <td>7939.35</td>\n",
       "      <td>NaN</td>\n",
       "      <td>NaN</td>\n",
       "      <td>2.00</td>\n",
       "      <td>38.45</td>\n",
       "      <td>NaN</td>\n",
       "      <td>NaN</td>\n",
       "      <td>1995.0</td>\n",
       "    </tr>\n",
       "    <tr>\n",
       "      <th>2</th>\n",
       "      <td>101M</td>\n",
       "      <td>OXYGEN TRANSPORT</td>\n",
       "      <td>X-RAY DIFFRACTION</td>\n",
       "      <td>Protein</td>\n",
       "      <td>154</td>\n",
       "      <td>2.07</td>\n",
       "      <td>18112.80</td>\n",
       "      <td>NaN</td>\n",
       "      <td>NaN</td>\n",
       "      <td>3.09</td>\n",
       "      <td>60.20</td>\n",
       "      <td>3.0 M AMMONIUM SULFATE, 20 MM TRIS, 1MM EDTA, ...</td>\n",
       "      <td>9.0</td>\n",
       "      <td>1999.0</td>\n",
       "    </tr>\n",
       "    <tr>\n",
       "      <th>3</th>\n",
       "      <td>102D</td>\n",
       "      <td>DNA</td>\n",
       "      <td>X-RAY DIFFRACTION</td>\n",
       "      <td>DNA</td>\n",
       "      <td>24</td>\n",
       "      <td>2.20</td>\n",
       "      <td>7637.17</td>\n",
       "      <td>VAPOR DIFFUSION, SITTING DROP</td>\n",
       "      <td>277.0</td>\n",
       "      <td>2.28</td>\n",
       "      <td>46.06</td>\n",
       "      <td>pH 7.00, VAPOR DIFFUSION, SITTING DROP, temper...</td>\n",
       "      <td>7.0</td>\n",
       "      <td>1995.0</td>\n",
       "    </tr>\n",
       "    <tr>\n",
       "      <th>4</th>\n",
       "      <td>102L</td>\n",
       "      <td>HYDROLASE(O-GLYCOSYL)</td>\n",
       "      <td>X-RAY DIFFRACTION</td>\n",
       "      <td>Protein</td>\n",
       "      <td>165</td>\n",
       "      <td>1.74</td>\n",
       "      <td>18926.61</td>\n",
       "      <td>NaN</td>\n",
       "      <td>NaN</td>\n",
       "      <td>2.75</td>\n",
       "      <td>55.28</td>\n",
       "      <td>NaN</td>\n",
       "      <td>NaN</td>\n",
       "      <td>1993.0</td>\n",
       "    </tr>\n",
       "  </tbody>\n",
       "</table>\n",
       "</div>"
      ],
      "text/plain": [
       "  structureId         classification experimentalTechnique macromoleculeType  \\\n",
       "0        100D         DNA-RNA HYBRID     X-RAY DIFFRACTION    DNA/RNA Hybrid   \n",
       "1        101D                    DNA     X-RAY DIFFRACTION               DNA   \n",
       "2        101M       OXYGEN TRANSPORT     X-RAY DIFFRACTION           Protein   \n",
       "3        102D                    DNA     X-RAY DIFFRACTION               DNA   \n",
       "4        102L  HYDROLASE(O-GLYCOSYL)     X-RAY DIFFRACTION           Protein   \n",
       "\n",
       "   residueCount  resolution  structureMolecularWeight  \\\n",
       "0            20        1.90                   6360.30   \n",
       "1            24        2.25                   7939.35   \n",
       "2           154        2.07                  18112.80   \n",
       "3            24        2.20                   7637.17   \n",
       "4           165        1.74                  18926.61   \n",
       "\n",
       "           crystallizationMethod  crystallizationTempK  densityMatthews  \\\n",
       "0  VAPOR DIFFUSION, HANGING DROP                   NaN             1.78   \n",
       "1                            NaN                   NaN             2.00   \n",
       "2                            NaN                   NaN             3.09   \n",
       "3  VAPOR DIFFUSION, SITTING DROP                 277.0             2.28   \n",
       "4                            NaN                   NaN             2.75   \n",
       "\n",
       "   densityPercentSol                                        pdbxDetails  \\\n",
       "0              30.89             pH 7.00, VAPOR DIFFUSION, HANGING DROP   \n",
       "1              38.45                                                NaN   \n",
       "2              60.20  3.0 M AMMONIUM SULFATE, 20 MM TRIS, 1MM EDTA, ...   \n",
       "3              46.06  pH 7.00, VAPOR DIFFUSION, SITTING DROP, temper...   \n",
       "4              55.28                                                NaN   \n",
       "\n",
       "   phValue  publicationYear  \n",
       "0      7.0           1994.0  \n",
       "1      NaN           1995.0  \n",
       "2      9.0           1999.0  \n",
       "3      7.0           1995.0  \n",
       "4      NaN           1993.0  "
      ]
     },
     "execution_count": 4,
     "metadata": {},
     "output_type": "execute_result"
    }
   ],
   "source": [
    "### Enter code below\n",
    "\n",
    "df.head()"
   ]
  },
  {
   "cell_type": "markdown",
   "metadata": {},
   "source": [
    "The method ```.index``` can give you some information on the number of entries in the DataFrame. Apply this method to your DataFrame. Is the result useful?\n"
   ]
  },
  {
   "cell_type": "code",
   "execution_count": null,
   "metadata": {},
   "outputs": [],
   "source": [
    "### Enter code below\n",
    "\n",
    "df.index  # Not useful if you want the result as an integer. Therefore, run len() function"
   ]
  },
  {
   "cell_type": "markdown",
   "metadata": {},
   "source": [
    "### Task 2\n",
    "Determine the number of rows (entries) in your ```df``` DataFrame."
   ]
  },
  {
   "cell_type": "code",
   "execution_count": null,
   "metadata": {},
   "outputs": [],
   "source": [
    "### Task 2 ### \n",
    "\n",
    "len(df.index)    # Number of rows"
   ]
  },
  {
   "cell_type": "markdown",
   "metadata": {},
   "source": [
    "___\n",
    "DataFrames are typically structured with a single Python data type assigned to each column. In other words, columns containing numeric data should not include strings (e.g. 1, 2, 3, 'four' is not good practice). What Python function is used to return the data type of the variable's below? "
   ]
  },
  {
   "cell_type": "code",
   "execution_count": 12,
   "metadata": {},
   "outputs": [
    {
     "name": "stdout",
     "output_type": "stream",
     "text": [
      "<class 'str'>\n",
      "<class 'int'>\n",
      "<class 'int'>\n"
     ]
    }
   ],
   "source": [
    "example_string = 'Hello_world'\n",
    "example_integer = 1234\n",
    "example_float = 1.234\n",
    "\n",
    "### Enter code below\n",
    "\n",
    "# type() returns object type in Python\n",
    "\n",
    "# for i in [example_string, example_integer, example_float]:\n",
    "#     print(type(i))\n",
    "    \n",
    "    \n",
    "    \n",
    "    \n",
    "number_one = '1'\n",
    "\n",
    "print(type(number_one))\n",
    "\n",
    "number_1 = 1\n",
    "\n",
    "print(type(number_1))\n",
    "\n",
    "number_int_one = int(number_one)\n",
    "\n",
    "print(type(number_int_one))\n",
    "\n",
    "\n"
   ]
  },
  {
   "cell_type": "markdown",
   "metadata": {},
   "source": [
    "Pandas allows you to check the data type contained within a column using the method ```.dtype```. Apply this to your DataFrame. Are the results what you would expect considering your previous insight into the DataFrame?"
   ]
  },
  {
   "cell_type": "code",
   "execution_count": 7,
   "metadata": {},
   "outputs": [
    {
     "data": {
      "text/plain": [
       "structureId                  object\n",
       "classification               object\n",
       "experimentalTechnique        object\n",
       "macromoleculeType            object\n",
       "residueCount                  int64\n",
       "resolution                  float64\n",
       "structureMolecularWeight    float64\n",
       "crystallizationMethod        object\n",
       "crystallizationTempK        float64\n",
       "densityMatthews             float64\n",
       "densityPercentSol           float64\n",
       "pdbxDetails                  object\n",
       "phValue                     float64\n",
       "publicationYear             float64\n",
       "dtype: object"
      ]
     },
     "execution_count": 7,
     "metadata": {},
     "output_type": "execute_result"
    }
   ],
   "source": [
    "### Enter code below\n",
    "\n",
    "df.dtypes      # They should be what you expect. Although, year is an anomaly. "
   ]
  },
  {
   "cell_type": "markdown",
   "metadata": {},
   "source": [
    "Another useful feature of Pandas is the ability to find all the unique values contained within a column. Squre brackets ```[]``` are used to slice a DataFrame into a single column and the method ```.unique()``` returns non-duplicate values. Run the cell below to see what the code returns. "
   ]
  },
  {
   "cell_type": "code",
   "execution_count": 8,
   "metadata": {},
   "outputs": [
    {
     "data": {
      "text/plain": [
       "array(['X-RAY DIFFRACTION', 'SOLUTION NMR', 'FIBER DIFFRACTION',\n",
       "       'ELECTRON CRYSTALLOGRAPHY', 'ELECTRON MICROSCOPY',\n",
       "       'NEUTRON DIFFRACTION', 'SOLID-STATE NMR', 'INFRARED SPECTROSCOPY',\n",
       "       'SOLUTION NMR, THEORETICAL MODEL', 'SOLUTION SCATTERING',\n",
       "       'POWDER DIFFRACTION', 'CRYO-ELECTRON MICROSCOPY',\n",
       "       'ELECTRON DIFFRACTION', 'X-RAY DIFFRACTION, SOLUTION NMR',\n",
       "       'THEORETICAL MODEL, SOLUTION NMR', 'FLUORESCENCE TRANSFER',\n",
       "       'X-RAY DIFFRACTION, EPR', 'SOLUTION NMR, SOLUTION SCATTERING',\n",
       "       'SOLID-STATE NMR, SOLUTION NMR', 'SOLUTION NMR, EPR',\n",
       "       'SOLUTION SCATTERING, SOLUTION NMR',\n",
       "       'SOLUTION NMR, SOLID-STATE NMR',\n",
       "       'SOLID-STATE NMR, ELECTRON MICROSCOPY', 'EPR, X-RAY DIFFRACTION',\n",
       "       'NEUTRON DIFFRACTION, X-RAY DIFFRACTION',\n",
       "       'FIBER DIFFRACTION, SOLID-STATE NMR',\n",
       "       'SOLUTION SCATTERING, ELECTRON MICROSCOPY',\n",
       "       'ELECTRON MICROSCOPY, SOLUTION SCATTERING',\n",
       "       'X-RAY DIFFRACTION, NEUTRON DIFFRACTION',\n",
       "       'ELECTRON MICROSCOPY, SOLUTION SCATTERING, SOLID-STATE NMR',\n",
       "       'ELECTRON MICROSCOPY, SOLID-STATE NMR',\n",
       "       'SOLUTION SCATTERING, X-RAY DIFFRACTION',\n",
       "       'NEUTRON DIFFRACTION, SOLUTION NMR'], dtype=object)"
      ]
     },
     "execution_count": 8,
     "metadata": {},
     "output_type": "execute_result"
    }
   ],
   "source": [
    "df['experimentalTechnique'].unique()"
   ]
  },
  {
   "cell_type": "markdown",
   "metadata": {},
   "source": [
    "### Task 3 \n",
    "What types of macromolecules are included in your DataFrame?\n",
    "\n",
    "How could you clean this data?"
   ]
  },
  {
   "cell_type": "code",
   "execution_count": 9,
   "metadata": {},
   "outputs": [
    {
     "data": {
      "text/plain": [
       "array(['DNA/RNA Hybrid', 'DNA', 'Protein', 'Protein#DNA', nan, 'DNA#RNA',\n",
       "       'RNA', 'DNA#DNA/RNA Hybrid', 'Protein#RNA', 'RNA#DNA/RNA Hybrid',\n",
       "       'Protein#DNA/RNA Hybrid', 'Protein#DNA#RNA',\n",
       "       'Protein#DNA#DNA/RNA Hybrid', 'Protein#RNA#DNA/RNA Hybrid'],\n",
       "      dtype=object)"
      ]
     },
     "execution_count": 9,
     "metadata": {},
     "output_type": "execute_result"
    }
   ],
   "source": [
    "### Task 3 ###\n",
    "\n",
    "df['macromoleculeType'].unique()"
   ]
  },
  {
   "cell_type": "markdown",
   "metadata": {},
   "source": [
    "___\n",
    "As well as returning unique entries in a column, we can find their frequencies using the method ```.value_counts()```. \n",
    "\n",
    "### Task 4 \n",
    "\n",
    "Apply ```.value_counts()``` to an appropriate column of your choice. "
   ]
  },
  {
   "cell_type": "code",
   "execution_count": 5,
   "metadata": {},
   "outputs": [
    {
     "name": "stdout",
     "output_type": "stream",
     "text": [
      "X-RAY DIFFRACTION                                            126432\n",
      "SOLUTION NMR                                                  12268\n",
      "ELECTRON MICROSCOPY                                            2252\n",
      "SOLID-STATE NMR                                                  99\n",
      "ELECTRON CRYSTALLOGRAPHY                                         74\n",
      "NEUTRON DIFFRACTION                                              60\n",
      "FIBER DIFFRACTION                                                40\n",
      "NEUTRON DIFFRACTION, X-RAY DIFFRACTION                           38\n",
      "X-RAY DIFFRACTION, NEUTRON DIFFRACTION                           33\n",
      "SOLUTION SCATTERING                                              32\n",
      "POWDER DIFFRACTION                                               19\n",
      "SOLUTION SCATTERING, SOLUTION NMR                                 9\n",
      "SOLUTION NMR, SOLUTION SCATTERING                                 6\n",
      "X-RAY DIFFRACTION, EPR                                            5\n",
      "SOLID-STATE NMR, ELECTRON MICROSCOPY                              5\n",
      "SOLUTION NMR, THEORETICAL MODEL                                   5\n",
      "INFRARED SPECTROSCOPY                                             4\n",
      "SOLID-STATE NMR, SOLUTION NMR                                     3\n",
      "EPR, X-RAY DIFFRACTION                                            2\n",
      "THEORETICAL MODEL, SOLUTION NMR                                   2\n",
      "ELECTRON MICROSCOPY, SOLUTION SCATTERING, SOLID-STATE NMR         1\n",
      "ELECTRON MICROSCOPY, SOLID-STATE NMR                              1\n",
      "CRYO-ELECTRON MICROSCOPY                                          1\n",
      "SOLUTION NMR, EPR                                                 1\n",
      "FIBER DIFFRACTION, SOLID-STATE NMR                                1\n",
      "ELECTRON DIFFRACTION                                              1\n",
      "ELECTRON MICROSCOPY, SOLUTION SCATTERING                          1\n",
      "SOLUTION SCATTERING, ELECTRON MICROSCOPY                          1\n",
      "X-RAY DIFFRACTION, SOLUTION NMR                                   1\n",
      "FLUORESCENCE TRANSFER                                             1\n",
      "NEUTRON DIFFRACTION, SOLUTION NMR                                 1\n",
      "SOLUTION SCATTERING, X-RAY DIFFRACTION                            1\n",
      "SOLUTION NMR, SOLID-STATE NMR                                     1\n",
      "Name: experimentalTechnique, dtype: int64\n"
     ]
    }
   ],
   "source": [
    "### Task 4 ###\n",
    "\n",
    "counts = df['experimentalTechnique'].value_counts()\n",
    "\n",
    "print(counts)"
   ]
  },
  {
   "cell_type": "markdown",
   "metadata": {},
   "source": [
    "___\n",
    "Often, we only want to work with numeric data from a DataFrame. Columns containing strings can confound analysis if they are not removed. We can create a new DataFrame that countains only floats and integers using the following code:"
   ]
  },
  {
   "cell_type": "code",
   "execution_count": null,
   "metadata": {},
   "outputs": [],
   "source": [
    "# DataFrame copy made of df, containing only integers and floats.  \n",
    "df_numeric = df.select_dtypes(include = [\"int64\", \"float64\"])\n",
    "\n",
    "# Displaying new DataFrame.\n",
    "df_numeric"
   ]
  },
  {
   "cell_type": "markdown",
   "metadata": {},
   "source": [
    "#### Task 5\n",
    "Modify the code above to create a copy of ```df``` that contains only string-type data. "
   ]
  },
  {
   "cell_type": "code",
   "execution_count": null,
   "metadata": {},
   "outputs": [],
   "source": [
    "### Task 5 ###\n",
    "\n",
    "df_text = df.select_dtypes(include = [\"object\"])\n",
    "\n",
    "df_text"
   ]
  },
  {
   "cell_type": "markdown",
   "metadata": {},
   "source": [
    "___\n",
    "A quick summary of numeric data within a DataFrame can be obtained using the method ```.describe()```. Apply this to your ```df```. Ask your supervisor how you can transpose the DataFrame to move your summary statistics returned by ```.describe()``` to the column position. "
   ]
  },
  {
   "cell_type": "code",
   "execution_count": null,
   "metadata": {},
   "outputs": [],
   "source": [
    "# Enter code below\n",
    "\n",
    "### ANSWER ###\n",
    "\n",
    "df_numeric.describe().T"
   ]
  },
  {
   "cell_type": "markdown",
   "metadata": {},
   "source": [
    "A major problem that arises when working with unfamiliar data sets is the insertion of ```NULL```, ```Na``` or ```NaN``` values. Rows with any of these values can be removed using the ```.dropna()``` method. \n",
    "\n",
    "How many entries of your original ```df``` DataFrame are free from missing values for all parameters?"
   ]
  },
  {
   "cell_type": "code",
   "execution_count": 17,
   "metadata": {},
   "outputs": [
    {
     "name": "stdout",
     "output_type": "stream",
     "text": [
      "141401\n",
      "65886\n"
     ]
    }
   ],
   "source": [
    "# Enter code below\n",
    "\n",
    "print(len(df))\n",
    "\n",
    "df_copy = df.dropna()\n",
    "\n",
    "print(len(df_copy.index))"
   ]
  },
  {
   "cell_type": "markdown",
   "metadata": {},
   "source": [
    "Does the presence of missing values in a DataFrame affect summary statistics? Write some code in the cell below to test your hypothesis. "
   ]
  },
  {
   "cell_type": "code",
   "execution_count": 18,
   "metadata": {},
   "outputs": [
    {
     "data": {
      "text/plain": [
       "6.788685377223861"
      ]
     },
     "execution_count": 18,
     "metadata": {},
     "output_type": "execute_result"
    }
   ],
   "source": [
    "# Enter code below \n",
    "\n",
    "df['phValue'].mean()"
   ]
  },
  {
   "cell_type": "code",
   "execution_count": 19,
   "metadata": {},
   "outputs": [
    {
     "data": {
      "text/plain": [
       "6.78788376893422"
      ]
     },
     "execution_count": 19,
     "metadata": {},
     "output_type": "execute_result"
    }
   ],
   "source": [
    "df_copy['phValue'].mean()      # Remove\n",
    "\n",
    "# Shows NULL values must be removed for tasks like this "
   ]
  },
  {
   "cell_type": "markdown",
   "metadata": {},
   "source": [
    "___\n",
    "\n",
    "The final feature Pandas we will look at is boolean operators. The method ```.iloc[]``` will return the entry at a given index. A further argument can be parsed into ```.iloc[]``` to return both the entry at a given index and that entry's parameter value at a given column. Pandas, like Python, uses a starting index of ```0```. Run the code below to see ```.iloc[]``` in action. "
   ]
  },
  {
   "cell_type": "code",
   "execution_count": null,
   "metadata": {},
   "outputs": [],
   "source": [
    "entry_two = df.iloc[1]                   # Returns the entire entry from the second column\n",
    "\n",
    "entry_three_column_four = df.iloc[2, 3]  # Returns the single value in row 3, column 4\n",
    "\n",
    "print(entry_two)\n",
    "print('-------')                         # Arbitrary seperator\n",
    "print(entry_three_column_four)"
   ]
  },
  {
   "cell_type": "markdown",
   "metadata": {},
   "source": [
    "Another useful method is ```.loc[]```. It works in a similar way to ```.iloc[]``` but is used as a logical entry selector. Boolean operators are used with ```.loc[]``` to exclusively select entries based on values in a specified column. Run the code below to get a feel for ```.loc[]```.  "
   ]
  },
  {
   "cell_type": "code",
   "execution_count": null,
   "metadata": {},
   "outputs": [],
   "source": [
    "# Select only entries solved by X-ray diffraction and assign to new DataFrame\n",
    "xray_structures = df.loc[df['experimentalTechnique'] == 'X-RAY DIFFRACTION']\n",
    "\n",
    "# Select only entries solved by X-ray diffraciton and are DNA-based\n",
    "dna_xray_structures = df.loc[(df['experimentalTechnique'] == 'X-RAY DIFFRACTION') & (df['classification'] == 'DNA')]\n",
    "\n",
    "# Shows the DataFrame contains only one unique entry in the 'experimentalTechnique' field. \n",
    "xray_structures['experimentalTechnique'].unique()"
   ]
  },
  {
   "cell_type": "markdown",
   "metadata": {},
   "source": [
    "Note that the second variable is defined using the element-wise boolean operator ```&```. The element-wise booleans in Pandas for AND, OR and XOR are ```&```, ```|``` and ```^```, respectively. \n",
    "\n",
    "\n",
    "It is good practice to use ```.loc[]``` to conditionally select entries from DataFrames but can be omitted, giving the same result. \n",
    "\n",
    "\n",
    "### Task 6 \n",
    "\n",
    "What year was the 100th protein structure (```macromoleculeType```) solved solely by ```ELECTRON MICROSCOPY```?"
   ]
  },
  {
   "cell_type": "code",
   "execution_count": 20,
   "metadata": {},
   "outputs": [
    {
     "data": {
      "text/plain": [
       "2007.0"
      ]
     },
     "execution_count": 20,
     "metadata": {},
     "output_type": "execute_result"
    }
   ],
   "source": [
    "#### Task 6 ###\n",
    "\n",
    "df.loc[(df['experimentalTechnique'] == 'ELECTRON MICROSCOPY') & (df['macromoleculeType'] == 'Protein')].iloc[99, 13]"
   ]
  },
  {
   "cell_type": "markdown",
   "metadata": {},
   "source": [
    "___"
   ]
  },
  {
   "cell_type": "markdown",
   "metadata": {},
   "source": [
    "## Matplotlib introduction\n",
    "\n",
    "This section will introduce some of the basics of Maplotlib. It is by no means an exhaustive overview of the package and you should look through the [Matplotlib documentation](https://matplotlib.org/) when working on your own projects in the future. \n",
    "\n",
    "The terminology of Matplotlib can cause confusion for those unfamiliar with the package. The term ***figure*** refers to the entire plot area of a graph, which i sseparate from the plot area. An ***axis*** is placed onto the Matplotlib *figure* and defines the area onto which your data will be plotted. A Matplotlib *axis*, ambiguously, includes both x- and y-axes. Multiple *axes* can be plotted onto a single figure. \n",
    "\n",
    "Let's start by plotting a histogram of the resolution data in the DataFrame. By doing so, we can get an insight into how the data is distributed. \n",
    "\n",
    "Run the code below. What does each line do? Speak with your supervisor for clarification. "
   ]
  },
  {
   "cell_type": "code",
   "execution_count": 29,
   "metadata": {},
   "outputs": [
    {
     "data": {
      "image/png": "[encoded data removed]",
      "text/plain": [
       "<Figure size 432x288 with 1 Axes>"
      ]
     },
     "metadata": {
      "needs_background": "light"
     },
     "output_type": "display_data"
    }
   ],
   "source": [
    "# Initialising figure as a 1x1 grid of axes\n",
    "resolution_fig, ax_res_hist = plt.subplots(1, 1) \n",
    "\n",
    " # Define number, size and range of bins\n",
    "res_bins = np.arange(0, 5, 0.3)                   \n",
    "\n",
    "# Plot histogram of non-NaN resolution data using Pandas\n",
    "ax_res_hist.hist(df['resolution'].dropna(),        \n",
    "                 bins=res_bins\n",
    "                 )\n",
    "\n",
    "plt.show()         # Displays all axes on figure"
   ]
  },
  {
   "cell_type": "markdown",
   "metadata": {},
   "source": [
    "### Task 7\n",
    "\n",
    "Plot a histogram for a numerical parameter from ```df``` of your chioce. Inspect the [Maplotlib documentation](https://matplotlib.org/api/_as_gen/matplotlib.axes.Axes.hist.html?highlight=hist#matplotlib.axes.Axes.hist) for this form of histogram and add additional arguments into your code to format the graph's appearance. \n",
    "\n",
    "Axes labels can also be added using the method ```.set_nlabel```, replacing ```n``` with either ```x``` or ```y```. "
   ]
  },
  {
   "cell_type": "code",
   "execution_count": 35,
   "metadata": {},
   "outputs": [
    {
     "data": {
      "image/png": "[encoded data removed]",
      "text/plain": [
       "<Figure size 432x288 with 1 Axes>"
      ]
     },
     "metadata": {
      "needs_background": "light"
     },
     "output_type": "display_data"
    }
   ],
   "source": [
    "### Task 7 ###\n",
    "\n",
    "# Initialising figure as a 1x1 grid of axes\n",
    "resolution_fig, ax_res_hist = plt.subplots(1, 1) \n",
    "\n",
    " # Define number, size and range of bins\n",
    "res_bins = np.arange(0, 5, 0.3)                   \n",
    "\n",
    "# Plot histogram of non-NaN resolution data using Pandas\n",
    "ax_res_hist.hist(df['resolution'].dropna(),        \n",
    "                 bins=res_bins\n",
    "                 )\n",
    "\n",
    "ax_res_hist.set_xlabel('Resulution (Angstrom)')\n",
    "ax_res_hist.set_ylabel('Frequency')\n",
    "\n",
    "plt.show()         # Displays all axes on figure"
   ]
  },
  {
   "cell_type": "markdown",
   "metadata": {},
   "source": [
    "___\n",
    "Scatter plots can be a good way to identify trends or groups within data. \n",
    "\n",
    "Run the code below. Is it valid to say the resolution of solved macromolecules has been worsening over time? What reasons are there for the trends observed? Discuss with your supervisor."
   ]
  },
  {
   "cell_type": "code",
   "execution_count": 7,
   "metadata": {},
   "outputs": [
    {
     "data": {
      "image/png": "[encoded data removed]",
      "text/plain": [
       "<Figure size 432x288 with 1 Axes>"
      ]
     },
     "metadata": {
      "needs_background": "light"
     },
     "output_type": "display_data"
    }
   ],
   "source": [
    "# Initialise figure with 1x1 grid of axes\n",
    "res_year_fig, res_year_ax = plt.subplots(1, 1)   \n",
    "\n",
    "''' Remove only NaN/NULL values from the resolution and publicationYear columns and\n",
    "return a DataFrame with only these two columns, saving computer memory '''\n",
    "\n",
    "year_resolution_df = df.dropna(subset=['resolution', 'publicationYear'])[['resolution', 'publicationYear']]\n",
    "\n",
    "res_year_ax.scatter(year_resolution_df['publicationYear'],   # Plot x-axis data\n",
    "                    year_resolution_df['resolution']         # Plot y-axis data\n",
    "                   )\n",
    "\n",
    "plt.show()   # Display figure"
   ]
  },
  {
   "cell_type": "code",
   "execution_count": null,
   "metadata": {},
   "outputs": [],
   "source": [
    "#### ANSWER ### \n",
    "\n",
    "# Minimum resolution decreases with time due to improvements in X-ray diffraction beams, detectors and image processing \n",
    "# Maximum resolution increases with time due to the use of election cryomicroscopy, partciularly for larger macromolecules and viral particles"
   ]
  },
  {
   "cell_type": "markdown",
   "metadata": {},
   "source": [
    "#### Task 7\n",
    "\n",
    "Repurpose the code above to plot *resolution* as a function of *molecular weight*. \n",
    "\n",
    "Refer to the [Matplotlib documentation](https://matplotlib.org/api/_as_gen/matplotlib.axes.Axes.scatter.html?highlight=scatter#matplotlib.axes.Axes.scatter) for scatter plots and add some formatting to change the plot's appearance. "
   ]
  },
  {
   "cell_type": "code",
   "execution_count": null,
   "metadata": {},
   "outputs": [],
   "source": [
    "### Task 7 ###\n"
   ]
  },
  {
   "cell_type": "markdown",
   "metadata": {},
   "source": [
    "___\n",
    "The final plot we will look at is the bar plot, specifically a horizontal bar plot. Run the code below. Discuss the code with your supervisor if anything is unlcear. "
   ]
  },
  {
   "cell_type": "code",
   "execution_count": 8,
   "metadata": {},
   "outputs": [
    {
     "data": {
      "image/png": "[encoded data removed]",
      "text/plain": [
       "<Figure size 432x288 with 1 Axes>"
      ]
     },
     "metadata": {},
     "output_type": "display_data"
    }
   ],
   "source": [
    "# Setting the style of figure\n",
    "plt.style.use('ggplot')\n",
    "\n",
    "# Initialise figure with 1x1 grid of axes\n",
    "fig, ax = plt.subplots(1, 1)   \n",
    "\n",
    "ax.barh(y=df['experimentalTechnique'].value_counts().index,   # Labels added to y-axis\n",
    "        width=df['experimentalTechnique'].value_counts(),     # Frequency added to x-axis\n",
    "        log=True         # The difference between frequencies spans several orders of magnitude. Using a semi-log scale makes the data easier to interpret here\n",
    "       )                 # Comment out 'log=True' to highlight its usefulness here. \n",
    "\n",
    "plt.show()   # Display figure"
   ]
  },
  {
   "cell_type": "markdown",
   "metadata": {},
   "source": [
    "#### Task 8\n",
    "\n",
    "What is the most commonly solved type of macromolecule? Plot a bargraph to get your answer. "
   ]
  },
  {
   "cell_type": "code",
   "execution_count": null,
   "metadata": {},
   "outputs": [],
   "source": [
    "### Task 8 ###\n",
    "\n",
    "fig, ax = plt.subplots(1, 1)\n",
    "\n",
    "ax.barh(y=df['macromoleculeType'].value_counts().index, \n",
    "        width=df['macromoleculeType'].value_counts(),\n",
    "        log=True)"
   ]
  },
  {
   "cell_type": "markdown",
   "metadata": {},
   "source": [
    "## End of session"
   ]
  }
 ],
 "metadata": {
  "kernelspec": {
   "display_name": "Python 3",
   "language": "python",
   "name": "python3"
  },
  "language_info": {
   "codemirror_mode": {
    "name": "ipython",
    "version": 3
   },
   "file_extension": ".py",
   "mimetype": "text/x-python",
   "name": "python",
   "nbconvert_exporter": "python",
   "pygments_lexer": "ipython3",
   "version": "3.8.5"
  }
 },
 "nbformat": 4,
 "nbformat_minor": 4
}
